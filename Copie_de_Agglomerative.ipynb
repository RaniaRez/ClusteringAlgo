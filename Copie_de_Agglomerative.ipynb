{
  "cells": [
    {
      "cell_type": "markdown",
      "metadata": {
        "id": "s0N2orkDD-Nr"
      },
      "source": [
        "<h1 id=\"hierarchical_agglomerative\">Hierarchical Clustering - Agglomerative</h1>\n",
        "\n",
        "We will be looking at a clustering technique, which is <b>Agglomerative Hierarchical Clustering</b>. Remember that agglomerative is the bottom up approach. <br> <br>\n",
        "In this lab, we will be looking at Agglomerative clustering, which is more popular than Divisive clustering. <br> <br>\n",
        "We will also be using Complete Linkage as the Linkage Criteria. <br> <b> <i> NOTE: You can also try using Average Linkage wherever Complete Linkage would be used to see the difference! </i> </b>\n"
      ]
    },
    {
      "cell_type": "code",
      "execution_count": 1,
      "metadata": {
        "id": "WgnrzUQgD-N3"
      },
      "outputs": [],
      "source": [
        "import numpy as np \n",
        "import pandas as pd\n",
        "from scipy import ndimage \n",
        "from scipy.cluster import hierarchy \n",
        "from scipy.spatial import distance_matrix \n",
        "from matplotlib import pyplot as plt \n",
        "from sklearn import manifold, datasets \n",
        "from sklearn.cluster import AgglomerativeClustering \n",
        "from sklearn.datasets import make_blobs \n",
        "%matplotlib inline"
      ]
    },
    {
      "cell_type": "markdown",
      "metadata": {
        "id": "ZgNpll0SD-N7"
      },
      "source": [
        "<hr>\n",
        "<h3 id=\"generating_data\">Generating Random Data</h3>\n",
        "We will be generating a set of data using the <b>make_blobs</b> class. <br> <br>\n",
        "Input these parameters into make_blobs:\n",
        "<ul>\n",
        "    <li> <b>n_samples</b>: The total number of points equally divided among clusters. </li>\n",
        "    <ul> <li> Choose a number from 10-1500 </li> </ul>\n",
        "    <li> <b>centers</b>: The number of centers to generate, or the fixed center locations. </li>\n",
        "    <ul> <li> Choose arrays of x,y coordinates for generating the centers. Have 1-10 centers (ex. centers=[[1,1], [2,5]]) </li> </ul>\n",
        "    <li> <b>cluster_std</b>: The standard deviation of the clusters. The larger the number, the further apart the clusters</li>\n",
        "    <ul> <li> Choose a number between 0.5-1.5 </li> </ul>\n",
        "</ul> <br>\n",
        "Save the result to <b>X1</b> and <b>y1</b>.\n"
      ]
    },
    {
      "cell_type": "code",
      "execution_count": 2,
      "metadata": {
        "id": "R5xmR8PKD-N9"
      },
      "outputs": [],
      "source": [
        "X1, y1 = make_blobs(n_samples=50, centers=[[4,4], [-2, -1], [1, 1], [10,4]], cluster_std=0.9)"
      ]
    },
    {
      "cell_type": "markdown",
      "metadata": {
        "id": "SUEg2-eWD-N-"
      },
      "source": [
        "Plot the scatter plot of the randomly generated data.\n"
      ]
    },
    {
      "cell_type": "code",
      "execution_count": 3,
      "metadata": {
        "id": "LEbwJ4lBD-N_",
        "colab": {
          "base_uri": "https://localhost:8080/",
          "height": 284
        },
        "outputId": "9298ce31-87d8-46eb-eb55-2f99c8e844e7"
      },
      "outputs": [
        {
          "output_type": "execute_result",
          "data": {
            "text/plain": [
              "<matplotlib.collections.PathCollection at 0x7f1cfc7e7710>"
            ]
          },
          "metadata": {},
          "execution_count": 3
        },
        {
          "output_type": "display_data",
          "data": {
            "text/plain": [
              "<Figure size 432x288 with 1 Axes>"
            ],
            "image/png": "[encoded data removed]"
          },
          "metadata": {
            "needs_background": "light"
          }
        }
      ],
      "source": [
        "plt.scatter(X1[:, 0], X1[:, 1], marker='o') "
      ]
    },
    {
      "cell_type": "markdown",
      "metadata": {
        "id": "zfOVIIxyD-OA"
      },
      "source": [
        "<hr>\n",
        "<h3 id=\"agglomerative_clustering\">Agglomerative Clustering</h3>\n",
        "\n",
        "We will start by clustering the random data points we just created.\n"
      ]
    },
    {
      "cell_type": "markdown",
      "metadata": {
        "id": "fROaJeTpD-OC"
      },
      "source": [
        "The <b> Agglomerative Clustering </b> class will require two inputs:\n",
        "\n",
        "<ul>\n",
        "    <li> <b>n_clusters</b>: The number of clusters to form as well as the number of centroids to generate. </li>\n",
        "    <ul> <li> Value will be: 4 </li> </ul>\n",
        "    <li> <b>linkage</b>: Which linkage criterion to use. The linkage criterion determines which distance to use between sets of observation. The algorithm will merge the pairs of cluster that minimize this criterion. </li>\n",
        "    <ul> \n",
        "        <li> Value will be: 'complete' </li> \n",
        "        <li> <b>Note</b>: It is recommended you try everything with 'average' as well </li>\n",
        "    </ul>\n",
        "</ul> <br>\n",
        "Save the result to a variable called <b> agglom </b>.\n"
      ]
    },
    {
      "cell_type": "code",
      "execution_count": 4,
      "metadata": {
        "id": "r4Wgwj4-D-OE"
      },
      "outputs": [],
      "source": [
        "agglom = AgglomerativeClustering(n_clusters = 4, linkage = 'average')"
      ]
    },
    {
      "cell_type": "markdown",
      "metadata": {
        "id": "s34H3p-2D-OG"
      },
      "source": [
        "Fit the model with <b> X2 </b> and <b> y2 </b> from the generated data above.\n"
      ]
    },
    {
      "cell_type": "code",
      "execution_count": 5,
      "metadata": {
        "scrolled": true,
        "id": "gXzSoWqiD-OH",
        "colab": {
          "base_uri": "https://localhost:8080/"
        },
        "outputId": "8d80e717-b990-4fde-c966-ca116672735b"
      },
      "outputs": [
        {
          "output_type": "execute_result",
          "data": {
            "text/plain": [
              "AgglomerativeClustering(linkage='average', n_clusters=4)"
            ]
          },
          "metadata": {},
          "execution_count": 5
        }
      ],
      "source": [
        "agglom.fit(X1,y1)"
      ]
    },
    {
      "cell_type": "markdown",
      "metadata": {
        "id": "eeQjDiRHD-OI"
      },
      "source": [
        "Run the following code to show the clustering! <br>\n",
        "Remember to read the code and comments to gain more understanding on how the plotting works.\n"
      ]
    },
    {
      "cell_type": "code",
      "execution_count": 6,
      "metadata": {
        "id": "Fj4qXHziD-OJ",
        "colab": {
          "base_uri": "https://localhost:8080/",
          "height": 252
        },
        "outputId": "1b3c54f3-fc8b-4878-93f4-820d4b53242f"
      },
      "outputs": [
        {
          "output_type": "display_data",
          "data": {
            "text/plain": [
              "<Figure size 432x288 with 1 Axes>"
            ],
            "image/png": "[encoded data removed]"
          },
          "metadata": {}
        }
      ],
      "source": [
        "# Create a figure of size 6 inches by 4 inches.\n",
        "plt.figure(figsize=(6,4))\n",
        "\n",
        "# These two lines of code are used to scale the data points down,\n",
        "# Or else the data points will be scattered very far apart.\n",
        "\n",
        "# Create a minimum and maximum range of X1.\n",
        "x_min, x_max = np.min(X1, axis=0), np.max(X1, axis=0)\n",
        "\n",
        "# Get the average distance for X1.\n",
        "X1 = (X1 - x_min) / (x_max - x_min)\n",
        "\n",
        "# This loop displays all of the datapoints.\n",
        "for i in range(X1.shape[0]):\n",
        "    # Replace the data points with their respective cluster value \n",
        "    # (ex. 0) and is color coded with a colormap (plt.cm.spectral)\n",
        "    plt.text(X1[i, 0], X1[i, 1], str(y1[i]),\n",
        "             color=plt.cm.nipy_spectral(agglom.labels_[i] / 10.),\n",
        "             fontdict={'weight': 'bold', 'size': 9})\n",
        "    \n",
        "# Remove the x ticks, y ticks, x and y axis\n",
        "plt.xticks([])\n",
        "plt.yticks([])\n",
        "#plt.axis('off')\n",
        "\n",
        "\n",
        "\n",
        "# Display the plot of the original data before clustering\n",
        "plt.scatter(X1[:, 0], X1[:, 1], marker='.')\n",
        "# Display the plot\n",
        "plt.show()"
      ]
    },
    {
      "cell_type": "markdown",
      "metadata": {
        "id": "aSJnYmsDD-OL"
      },
      "source": [
        "<h3 id=\"dendrogram\">Dendrogram Associated for the Agglomerative Hierarchical Clustering</h3>\n",
        "\n",
        "Remember that a <b>distance matrix</b> contains the <b> distance from each point to every other point of a dataset </b>.\n",
        "\n",
        "Use the function <b> distance_matrix, </b> which requires <b>two inputs</b>. Use the Feature Matrix, <b> X1 </b> as both inputs and save the distance matrix to a variable called <b> dist_matrix </b> <br> <br>\n",
        "Remember that the distance values are symmetric, with a diagonal of 0's. This is one way of making sure your matrix is correct. <br> (print out dist_matrix to make sure it's correct)\n"
      ]
    },
    {
      "cell_type": "code",
      "execution_count": 7,
      "metadata": {
        "scrolled": true,
        "id": "czsjaL3oD-OM",
        "colab": {
          "base_uri": "https://localhost:8080/"
        },
        "outputId": "edfd4b97-8e6f-4c94-e25e-e8085244b64e"
      },
      "outputs": [
        {
          "output_type": "stream",
          "name": "stdout",
          "text": [
            "[[0.         0.36169807 0.50292364 ... 0.74733852 0.40026623 0.75539743]\n",
            " [0.36169807 0.         0.79098047 ... 1.09100617 0.3216278  1.09728802]\n",
            " [0.50292364 0.79098047 0.         ... 0.37042068 0.59791026 0.3689663 ]\n",
            " ...\n",
            " [0.74733852 1.09100617 0.37042068 ... 0.         0.95212764 0.01570074]\n",
            " [0.40026623 0.3216278  0.59791026 ... 0.95212764 0.         0.9541258 ]\n",
            " [0.75539743 1.09728802 0.3689663  ... 0.01570074 0.9541258  0.        ]]\n"
          ]
        }
      ],
      "source": [
        "dist_matrix = distance_matrix(X1,X1) \n",
        "print(dist_matrix)"
      ]
    },
    {
      "cell_type": "markdown",
      "metadata": {
        "id": "FeuYvAv3D-ON"
      },
      "source": [
        "Using the <b> linkage </b> class from hierarchy, pass in the parameters:\n",
        "\n",
        "<ul>\n",
        "    <li> The distance matrix </li>\n",
        "    <li> 'complete' for complete linkage </li>\n",
        "</ul> <br>\n",
        "Save the result to a variable called <b> Z </b>.\n"
      ]
    },
    {
      "cell_type": "code",
      "execution_count": 8,
      "metadata": {
        "id": "TdVwBefOD-OO",
        "colab": {
          "base_uri": "https://localhost:8080/"
        },
        "outputId": "3212facb-0a79-414b-b753-90fabd812910"
      },
      "outputs": [
        {
          "output_type": "stream",
          "name": "stderr",
          "text": [
            "/usr/local/lib/python3.7/dist-packages/ipykernel_launcher.py:1: ClusterWarning: scipy.cluster: The symmetric non-negative hollow observation matrix looks suspiciously like an uncondensed distance matrix\n",
            "  \"\"\"Entry point for launching an IPython kernel.\n"
          ]
        }
      ],
      "source": [
        "Z = hierarchy.linkage(dist_matrix, 'complete')"
      ]
    },
    {
      "cell_type": "markdown",
      "metadata": {
        "id": "rMHFafxTD-OO"
      },
      "source": [
        "A Hierarchical clustering is typically visualized as a dendrogram as shown in the following cell. Each merge is represented by a horizontal line. The y-coordinate of the horizontal line is the similarity of the two clusters that were merged, where cities are viewed as singleton clusters.\n",
        "By moving up from the bottom layer to the top node, a dendrogram allows us to reconstruct the history of merges that resulted in the depicted clustering.\n",
        "\n",
        "Next, we will save the dendrogram to a variable called <b>dendro</b>. In doing this, the dendrogram will also be displayed.\n",
        "Using the <b> dendrogram </b> class from hierarchy, pass in the parameter:\n",
        "\n",
        "<ul> <li> Z </li> </ul>\n"
      ]
    },
    {
      "cell_type": "code",
      "execution_count": 9,
      "metadata": {
        "id": "HBCfVOEsD-OP",
        "colab": {
          "base_uri": "https://localhost:8080/",
          "height": 266
        },
        "outputId": "2cc7f6ab-532d-4b5a-b875-1d6166503971"
      },
      "outputs": [
        {
          "output_type": "display_data",
          "data": {
            "text/plain": [
              "<Figure size 432x288 with 1 Axes>"
            ],
            "image/png": "[encoded data removed]"
          },
          "metadata": {
            "needs_background": "light"
          }
        }
      ],
      "source": [
        "dendro = hierarchy.dendrogram(Z)"
      ]
    },
    {
      "cell_type": "markdown",
      "metadata": {
        "id": "2WDiHFcID-OQ"
      },
      "source": [
        "## Practice\n",
        "\n",
        "We used **complete** linkage for our case, change it to **average** linkage to see how the dendogram changes.\n"
      ]
    },
    {
      "cell_type": "code",
      "execution_count": 10,
      "metadata": {
        "id": "HR41kQQVD-OR"
      },
      "outputs": [],
      "source": [
        "# write your code here\n",
        "Z = hierarchy.linkage(dist_matrix, 'average')\n",
        "dendro = hierarchy.dendrogram(Z)\n"
      ]
    }
  ],
  "metadata": {
    "kernelspec": {
      "display_name": "Python 3 (ipykernel)",
      "language": "python",
      "name": "python3"
    },
    "language_info": {
      "codemirror_mode": {
        "name": "ipython",
        "version": 3
      },
      "file_extension": ".py",
      "mimetype": "text/x-python",
      "name": "python",
      "nbconvert_exporter": "python",
      "pygments_lexer": "ipython3",
      "version": "3.9.7"
    },
    "colab": {
      "provenance": []
    }
  },
  "nbformat": 4,
  "nbformat_minor": 0
}